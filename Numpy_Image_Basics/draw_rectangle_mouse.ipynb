{
 "cells": [
  {
   "cell_type": "code",
   "execution_count": 6,
   "id": "1fea79c2-bc62-4365-b8c0-9ab7ab752d46",
   "metadata": {},
   "outputs": [],
   "source": [
    "import numpy as np\n",
    "import cv2\n",
    "import matplotlib.pyplot as plt\n",
    "\n",
    "def draw_rectangle(event, x, y, flags, param):\n",
    "    \n",
    "    global drawing_mode, ix, iy\n",
    "    \n",
    "    if event == cv2.EVENT_LBUTTONDOWN:\n",
    "        drawing_mode = True\n",
    "        ix,iy = x,y\n",
    "        \n",
    "    elif event == cv2.EVENT_MOUSEMOVE:\n",
    "        if drawing_mode == True:\n",
    "            cv2.rectangle(blank_img,(ix,iy),(x,y),color = (51,78,90), thickness = -1)\n",
    "            \n",
    "    elif event == cv2.EVENT_LBUTTONUP:\n",
    "        drawing_mode = False\n",
    "        cv2.rectangle(blank_img,(ix,iy),(x,y),color = (51,78,90), thickness = -1)\n",
    "    \n",
    "\n",
    "# Connect draw_shape function to Image window\n",
    "cv2.namedWindow(winname=\"Image\")\n",
    "cv2.setMouseCallback(\"Image\",draw_rectangle)\n",
    "\n",
    "blank_img = np.zeros(shape=(512,512,3))\n",
    "\n",
    "drawing_mode = False\n",
    "\n",
    "ix, iy = -1 , -1\n",
    "\n",
    "while True:\n",
    "    \n",
    "    cv2.imshow(\"Image\",blank_img)\n",
    "    \n",
    "    if cv2.waitKey(20) & 0xFF == 27:\n",
    "        break\n",
    "        \n",
    "cv2.destroyAllWindows()"
   ]
  },
  {
   "cell_type": "code",
   "execution_count": null,
   "id": "643fd3a4-c38a-48a7-8082-3f5550042041",
   "metadata": {},
   "outputs": [],
   "source": []
  }
 ],
 "metadata": {
  "kernelspec": {
   "display_name": "Python 3.9.12 ('base')",
   "language": "python",
   "name": "python3"
  },
  "language_info": {
   "codemirror_mode": {
    "name": "ipython",
    "version": 3
   },
   "file_extension": ".py",
   "mimetype": "text/x-python",
   "name": "python",
   "nbconvert_exporter": "python",
   "pygments_lexer": "ipython3",
   "version": "3.9.12"
  },
  "vscode": {
   "interpreter": {
    "hash": "ad2bdc8ecc057115af97d19610ffacc2b4e99fae6737bb82f5d7fb13d2f2c186"
   }
  }
 },
 "nbformat": 4,
 "nbformat_minor": 5
}
