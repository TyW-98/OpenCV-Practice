{
 "cells": [
  {
   "cell_type": "code",
   "execution_count": 1,
   "id": "5d0e03e2-ba5e-439d-b8ec-a8da120fbbc0",
   "metadata": {},
   "outputs": [],
   "source": [
    "import numpy as np\n",
    "import cv2\n",
    "import matplotlib.pyplot as plt\n",
    "\n",
    "def draw_shape(event, x, y, flags, param):\n",
    "    \n",
    "    if event == cv2.EVENT_LBUTTONDOWN:\n",
    "        cv2.circle(blank_img,(x,y),100, (54,52,7),-1)\n",
    "\n",
    "# Connect draw_shape function to Image window\n",
    "cv2.namedWindow(winname=\"Image\")\n",
    "cv2.setMouseCallback(\"Image\",draw_shape)\n",
    "\n",
    "blank_img = np.zeros(shape=(512,512,3),dtype=np.int8)\n",
    "\n",
    "while True:\n",
    "    \n",
    "    cv2.imshow(\"Image\",blank_img)\n",
    "    \n",
    "    if cv2.waitKey(20) & 0xFF == 27:\n",
    "        break\n",
    "        \n",
    "cv2.destroyAllWindows()"
   ]
  },
  {
   "cell_type": "code",
   "execution_count": null,
   "id": "038585ef-eaf1-4c3a-9dfb-3252b9e907f5",
   "metadata": {},
   "outputs": [],
   "source": []
  }
 ],
 "metadata": {
  "kernelspec": {
   "display_name": "Python 3 (ipykernel)",
   "language": "python",
   "name": "python3"
  },
  "language_info": {
   "codemirror_mode": {
    "name": "ipython",
    "version": 3
   },
   "file_extension": ".py",
   "mimetype": "text/x-python",
   "name": "python",
   "nbconvert_exporter": "python",
   "pygments_lexer": "ipython3",
   "version": "3.9.12"
  }
 },
 "nbformat": 4,
 "nbformat_minor": 5
}
