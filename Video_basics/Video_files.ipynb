{
 "cells": [
  {
   "cell_type": "code",
   "execution_count": 6,
   "metadata": {},
   "outputs": [],
   "source": [
    "import cv2\n",
    "import time\n",
    "\n",
    "# Load video in if want to connect to webcam using cv2.VideoCapture(0)\n",
    "cap = cv2.VideoCapture(\"../DATA/finger_move.mp4\")\n",
    "\n",
    "width, height = int(cap.get(cv2.CAP_PROP_FRAME_WIDTH)) , int(cap.get(cv2.CAP_PROP_FRAME_HEIGHT))\n",
    "\n",
    "x_start_loc = int(width*0.33)\n",
    "y_start_loc = int(height*0.33)\n",
    "\n",
    "x_end_loc = int(width*0.66)\n",
    "y_end_loc = int(height*0.66)\n",
    "\n",
    "# If cap cant find video file directory\n",
    "if cap.isOpened() == False:\n",
    "    print(\"No such file directory\")\n",
    "    \n",
    "while cap.isOpened():\n",
    "    \n",
    "    ret, frame = cap.read()\n",
    "    \n",
    "    cv2.rectangle(frame,pt1=(x_start_loc,y_start_loc),pt2=(x_end_loc,y_end_loc), color = (235,51,62),thickness = 4)\n",
    "    \n",
    "    if ret == True:\n",
    "        \n",
    "        # FPS = 60\n",
    "        # Slow down the video to actual duration of the video for user to watch. If operations are being carried out remove this line!!\n",
    "        # time.sleep(1/FPS)\n",
    "        cv2.imshow(\"frame\",frame)\n",
    "        \n",
    "        # CLose video window using q key to use escape key use 0xFF == 27\n",
    "        if cv2.waitKey(10) & 0xFF == ord('q'):\n",
    "            break\n",
    "        \n",
    "    else:\n",
    "        break\n",
    "    \n",
    "cap.release()\n",
    "cv2.destroyAllWindows()"
   ]
  },
  {
   "cell_type": "code",
   "execution_count": null,
   "metadata": {},
   "outputs": [],
   "source": []
  }
 ],
 "metadata": {
  "kernelspec": {
   "display_name": "Python 3.9.12 ('base')",
   "language": "python",
   "name": "python3"
  },
  "language_info": {
   "codemirror_mode": {
    "name": "ipython",
    "version": 3
   },
   "file_extension": ".py",
   "mimetype": "text/x-python",
   "name": "python",
   "nbconvert_exporter": "python",
   "pygments_lexer": "ipython3",
   "version": "3.9.12"
  },
  "orig_nbformat": 4,
  "vscode": {
   "interpreter": {
    "hash": "ad2bdc8ecc057115af97d19610ffacc2b4e99fae6737bb82f5d7fb13d2f2c186"
   }
  }
 },
 "nbformat": 4,
 "nbformat_minor": 2
}
