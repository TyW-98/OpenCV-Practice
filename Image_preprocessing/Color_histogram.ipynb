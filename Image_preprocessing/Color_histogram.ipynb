{
 "cells": [
  {
   "cell_type": "code",
   "execution_count": 1,
   "id": "a69147a7-445f-4ff2-8ab6-4728dc918ef1",
   "metadata": {},
   "outputs": [],
   "source": [
    "import cv2\n",
    "import numpy as np\n",
    "import matplotlib.pyplot as plt\n",
    "import os\n",
    "\n",
    "%matplotlib inline"
   ]
  },
  {
   "cell_type": "code",
   "execution_count": 2,
   "id": "956960fc-7348-4e2e-b1ca-92c1e289ee24",
   "metadata": {},
   "outputs": [
    {
     "name": "stdout",
     "output_type": "stream",
     "text": [
      "C:\\Users\\TYW\\Desktop\\CV-object-detection\\Practice\\Image_preprocessing\n"
     ]
    }
   ],
   "source": [
    "print(os.getcwd())"
   ]
  },
  {
   "cell_type": "code",
   "execution_count": 3,
   "id": "eba9bfe4-09fe-4db4-a39f-ace90cf68fbf",
   "metadata": {},
   "outputs": [],
   "source": [
    "def display_img(img):\n",
    "    fig = plt.figure(figsize = (15,15))\n",
    "    ax = fig.add_subplot(111)\n",
    "    ax.imshow(img)"
   ]
  },
  {
   "cell_type": "code",
   "execution_count": 5,
   "id": "3317a2dd-d4ca-4261-a485-cb32fc4cbaf3",
   "metadata": {},
   "outputs": [],
   "source": [
    "horse_img_bgr = cv2.imread(\"../DATA/horse.jpg\")\n",
    "horse_img = cv2.cvtColor(horse_img_bgr,cv2.COLOR_BGR2RGB)\n",
    "\n",
    "rainbow_img_bgr = cv2.imread(\"../DATA/rainbow.jpg\")\n",
    "rainbow_img = cv2.cvtColor(rainbow_img_bgr,cv2.COLOR_BGR2RGB)\n",
    "\n",
    "bricks_img_bgr = cv2.imread(\"../DATA/bricks.jpg\")\n",
    "bricks_img = cv2.cvtColor(bricks_img_bgr,cv2.COLOR_BGR2RGB)"
   ]
  },
  {
   "cell_type": "code",
   "execution_count": null,
   "id": "6ec5f7c3-24b4-4689-abd7-faad5e1f1d14",
   "metadata": {},
   "outputs": [],
   "source": []
  }
 ],
 "metadata": {
  "kernelspec": {
   "display_name": "Python 3 (ipykernel)",
   "language": "python",
   "name": "python3"
  },
  "language_info": {
   "codemirror_mode": {
    "name": "ipython",
    "version": 3
   },
   "file_extension": ".py",
   "mimetype": "text/x-python",
   "name": "python",
   "nbconvert_exporter": "python",
   "pygments_lexer": "ipython3",
   "version": "3.9.12"
  }
 },
 "nbformat": 4,
 "nbformat_minor": 5
}
